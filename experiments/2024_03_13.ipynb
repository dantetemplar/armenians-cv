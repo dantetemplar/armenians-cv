{
 "cells": [
  {
   "cell_type": "raw",
   "source": [
    "## Preparing the environment"
   ],
   "metadata": {
    "collapsed": false
   },
   "id": "4c9eb256e240569c"
  },
  {
   "cell_type": "code",
   "outputs": [],
   "source": [
    "# Importing libraries\n",
    "# START OF: src/common_imports.txt\n",
    "import albumentations  # noqa: F401\n",
    "import matplotlib.pyplot as plt  # noqa: F401\n",
    "import numpy as np  # noqa: F401\n",
    "import seaborn  # noqa: F401\n",
    "import torch  # noqa: F401\n",
    "import torch.nn as nn  # noqa: F401\n",
    "import torch.optim as optim  # noqa: F401\n",
    "from torchvision.transforms import v2  # noqa: F401\n",
    "# END OF: src/common_imports.txt"
   ],
   "metadata": {
    "collapsed": false,
    "ExecuteTime": {
     "end_time": "2024-03-12T23:49:50.710378Z",
     "start_time": "2024-03-12T23:49:50.706788Z"
    }
   },
   "id": "fe5eaded8b43f577",
   "execution_count": 10
  },
  {
   "cell_type": "code",
   "outputs": [
    {
     "name": "stdout",
     "output_type": "stream",
     "text": [
      "Deterministic behavior has been enabled.\n",
      "Seed 52094538 has been set.\n"
     ]
    }
   ],
   "source": [
    "from src.seed import seed_everything\n",
    "\n",
    "seed_everything(52094538)"
   ],
   "metadata": {
    "collapsed": false,
    "ExecuteTime": {
     "end_time": "2024-03-12T23:49:51.110233Z",
     "start_time": "2024-03-12T23:49:51.107493Z"
    }
   },
   "id": "c0344f57813f51c6",
   "execution_count": 11
  },
  {
   "cell_type": "code",
   "outputs": [
    {
     "name": "stdout",
     "output_type": "stream",
     "text": [
      "CUDA is available\n",
      "Number of CUDA devices: 1\n",
      "Device 0: NVIDIA GeForce GTX 1650\n"
     ]
    }
   ],
   "source": [
    "from src.cuda_status import print_cuda_status\n",
    "\n",
    "print_cuda_status()"
   ],
   "metadata": {
    "collapsed": false,
    "ExecuteTime": {
     "end_time": "2024-03-12T23:49:51.488659Z",
     "start_time": "2024-03-12T23:49:51.485957Z"
    }
   },
   "id": "96ea22565b42fc65",
   "execution_count": 12
  },
  {
   "cell_type": "raw",
   "source": [],
   "metadata": {
    "collapsed": false
   },
   "id": "c06cf84706ff980b"
  }
 ],
 "metadata": {
  "kernelspec": {
   "display_name": "Python 3",
   "language": "python",
   "name": "python3"
  },
  "language_info": {
   "codemirror_mode": {
    "name": "ipython",
    "version": 2
   },
   "file_extension": ".py",
   "mimetype": "text/x-python",
   "name": "python",
   "nbconvert_exporter": "python",
   "pygments_lexer": "ipython2",
   "version": "2.7.6"
  }
 },
 "nbformat": 4,
 "nbformat_minor": 5
}
